{
 "cells": [
  {
   "cell_type": "code",
   "execution_count": 1,
   "id": "handmade-patio",
   "metadata": {},
   "outputs": [],
   "source": [
    "import numpy as np\n",
    "import pandas as pd\n",
    "import matplotlib.pyplot as plt\n",
    "from sklearn.linear_model import LogisticRegression\n",
    "import mysql.connector\n",
    "from sklearn.model_selection import train_test_split"
   ]
  },
  {
   "cell_type": "code",
   "execution_count": 2,
   "id": "conditional-illustration",
   "metadata": {},
   "outputs": [],
   "source": [
    "db_connection = mysql.connector.connect(host=\"34.68.250.121\", \n",
    "                                        database='NCAAWomens', user='wsa', password='LeBron>MJ!')"
   ]
  },
  {
   "cell_type": "code",
   "execution_count": 3,
   "id": "intense-buyer",
   "metadata": {},
   "outputs": [],
   "source": [
    "df = pd.read_sql('SELECT * FROM advancedScheduleStats WHERE team = \"Michigan\"', con=db_connection)"
   ]
  },
  {
   "cell_type": "code",
   "execution_count": 4,
   "id": "detected-samuel",
   "metadata": {},
   "outputs": [
    {
     "data": {
      "text/html": [
       "<div>\n",
       "<style scoped>\n",
       "    .dataframe tbody tr th:only-of-type {\n",
       "        vertical-align: middle;\n",
       "    }\n",
       "\n",
       "    .dataframe tbody tr th {\n",
       "        vertical-align: top;\n",
       "    }\n",
       "\n",
       "    .dataframe thead th {\n",
       "        text-align: right;\n",
       "    }\n",
       "</style>\n",
       "<table border=\"1\" class=\"dataframe\">\n",
       "  <thead>\n",
       "    <tr style=\"text-align: right;\">\n",
       "      <th></th>\n",
       "      <th>teamPerformanceID</th>\n",
       "      <th>seasonID</th>\n",
       "      <th>teamID</th>\n",
       "      <th>team</th>\n",
       "      <th>date</th>\n",
       "      <th>dateText</th>\n",
       "      <th>dateID</th>\n",
       "      <th>home</th>\n",
       "      <th>opponent</th>\n",
       "      <th>opponentTeamID</th>\n",
       "      <th>...</th>\n",
       "      <th>blockPercent</th>\n",
       "      <th>simpleRPI</th>\n",
       "      <th>margin</th>\n",
       "      <th>ptsScored</th>\n",
       "      <th>ptsAllowed</th>\n",
       "      <th>stealPercent</th>\n",
       "      <th>turnoverPercent</th>\n",
       "      <th>trueShootingPercent</th>\n",
       "      <th>foulRate</th>\n",
       "      <th>freeThrowRate</th>\n",
       "    </tr>\n",
       "  </thead>\n",
       "  <tbody>\n",
       "    <tr>\n",
       "      <th>0</th>\n",
       "      <td>1190</td>\n",
       "      <td>4</td>\n",
       "      <td>1</td>\n",
       "      <td>Michigan</td>\n",
       "      <td>2018-11-09</td>\n",
       "      <td>None</td>\n",
       "      <td>3187</td>\n",
       "      <td>1</td>\n",
       "      <td>Mount St. Mary's</td>\n",
       "      <td>NaN</td>\n",
       "      <td>...</td>\n",
       "      <td>12.5</td>\n",
       "      <td>236</td>\n",
       "      <td>48</td>\n",
       "      <td>88</td>\n",
       "      <td>40</td>\n",
       "      <td>0.211082</td>\n",
       "      <td>0.197889</td>\n",
       "      <td>0.567888</td>\n",
       "      <td>0.224274</td>\n",
       "      <td>0.224274</td>\n",
       "    </tr>\n",
       "    <tr>\n",
       "      <th>1</th>\n",
       "      <td>1191</td>\n",
       "      <td>4</td>\n",
       "      <td>1</td>\n",
       "      <td>Michigan</td>\n",
       "      <td>2018-11-15</td>\n",
       "      <td>None</td>\n",
       "      <td>3193</td>\n",
       "      <td>0</td>\n",
       "      <td>Western Mich.</td>\n",
       "      <td>NaN</td>\n",
       "      <td>...</td>\n",
       "      <td>9.1</td>\n",
       "      <td>271</td>\n",
       "      <td>37</td>\n",
       "      <td>79</td>\n",
       "      <td>42</td>\n",
       "      <td>0.040872</td>\n",
       "      <td>0.163488</td>\n",
       "      <td>0.566667</td>\n",
       "      <td>0.245232</td>\n",
       "      <td>0.340599</td>\n",
       "    </tr>\n",
       "    <tr>\n",
       "      <th>2</th>\n",
       "      <td>1192</td>\n",
       "      <td>4</td>\n",
       "      <td>1</td>\n",
       "      <td>Michigan</td>\n",
       "      <td>2018-11-19</td>\n",
       "      <td>None</td>\n",
       "      <td>3197</td>\n",
       "      <td>1</td>\n",
       "      <td>Detroit Mercy</td>\n",
       "      <td>NaN</td>\n",
       "      <td>...</td>\n",
       "      <td>13.3</td>\n",
       "      <td>340</td>\n",
       "      <td>33</td>\n",
       "      <td>95</td>\n",
       "      <td>62</td>\n",
       "      <td>0.178117</td>\n",
       "      <td>0.152672</td>\n",
       "      <td>0.552840</td>\n",
       "      <td>0.229008</td>\n",
       "      <td>0.229008</td>\n",
       "    </tr>\n",
       "    <tr>\n",
       "      <th>3</th>\n",
       "      <td>1193</td>\n",
       "      <td>4</td>\n",
       "      <td>1</td>\n",
       "      <td>Michigan</td>\n",
       "      <td>2018-11-23</td>\n",
       "      <td>None</td>\n",
       "      <td>3201</td>\n",
       "      <td>0</td>\n",
       "      <td>Missouri</td>\n",
       "      <td>NaN</td>\n",
       "      <td>...</td>\n",
       "      <td>11.1</td>\n",
       "      <td>26</td>\n",
       "      <td>16</td>\n",
       "      <td>70</td>\n",
       "      <td>54</td>\n",
       "      <td>0.099857</td>\n",
       "      <td>0.271041</td>\n",
       "      <td>0.561010</td>\n",
       "      <td>0.271041</td>\n",
       "      <td>0.228245</td>\n",
       "    </tr>\n",
       "    <tr>\n",
       "      <th>4</th>\n",
       "      <td>1194</td>\n",
       "      <td>4</td>\n",
       "      <td>1</td>\n",
       "      <td>Michigan</td>\n",
       "      <td>2018-11-24</td>\n",
       "      <td>None</td>\n",
       "      <td>3202</td>\n",
       "      <td>0</td>\n",
       "      <td>Texas</td>\n",
       "      <td>NaN</td>\n",
       "      <td>...</td>\n",
       "      <td>2.3</td>\n",
       "      <td>25</td>\n",
       "      <td>-17</td>\n",
       "      <td>52</td>\n",
       "      <td>69</td>\n",
       "      <td>0.014948</td>\n",
       "      <td>0.209268</td>\n",
       "      <td>0.350027</td>\n",
       "      <td>0.254111</td>\n",
       "      <td>0.179372</td>\n",
       "    </tr>\n",
       "  </tbody>\n",
       "</table>\n",
       "<p>5 rows × 32 columns</p>\n",
       "</div>"
      ],
      "text/plain": [
       "   teamPerformanceID  seasonID  teamID      team        date dateText  dateID  \\\n",
       "0               1190         4       1  Michigan  2018-11-09     None    3187   \n",
       "1               1191         4       1  Michigan  2018-11-15     None    3193   \n",
       "2               1192         4       1  Michigan  2018-11-19     None    3197   \n",
       "3               1193         4       1  Michigan  2018-11-23     None    3201   \n",
       "4               1194         4       1  Michigan  2018-11-24     None    3202   \n",
       "\n",
       "   home           opponent  opponentTeamID  ...  blockPercent  simpleRPI  \\\n",
       "0     1  Mount St. Mary's              NaN  ...          12.5        236   \n",
       "1     0     Western Mich.              NaN  ...           9.1        271   \n",
       "2     1     Detroit Mercy              NaN  ...          13.3        340   \n",
       "3     0          Missouri              NaN  ...          11.1         26   \n",
       "4     0             Texas              NaN  ...           2.3         25   \n",
       "\n",
       "   margin  ptsScored  ptsAllowed  stealPercent  turnoverPercent  \\\n",
       "0      48         88          40      0.211082         0.197889   \n",
       "1      37         79          42      0.040872         0.163488   \n",
       "2      33         95          62      0.178117         0.152672   \n",
       "3      16         70          54      0.099857         0.271041   \n",
       "4     -17         52          69      0.014948         0.209268   \n",
       "\n",
       "   trueShootingPercent  foulRate  freeThrowRate  \n",
       "0             0.567888  0.224274       0.224274  \n",
       "1             0.566667  0.245232       0.340599  \n",
       "2             0.552840  0.229008       0.229008  \n",
       "3             0.561010  0.271041       0.228245  \n",
       "4             0.350027  0.254111       0.179372  \n",
       "\n",
       "[5 rows x 32 columns]"
      ]
     },
     "execution_count": 4,
     "metadata": {},
     "output_type": "execute_result"
    }
   ],
   "source": [
    "df.head()"
   ]
  },
  {
   "cell_type": "code",
   "execution_count": 5,
   "id": "standard-classics",
   "metadata": {},
   "outputs": [],
   "source": [
    "# creates a row with 1 if a win, 0 if loss\n",
    "def win(row):\n",
    "    if row.ptsScored > row.ptsAllowed:\n",
    "        return 1\n",
    "    else:\n",
    "        return 0\n",
    "\n",
    "df['win'] = df[['ptsScored', 'ptsAllowed']].apply(win, axis=1)"
   ]
  },
  {
   "cell_type": "code",
   "execution_count": 6,
   "id": "caroline-correction",
   "metadata": {},
   "outputs": [
    {
     "data": {
      "text/plain": [
       "Index(['teamPerformanceID', 'seasonID', 'teamID', 'team', 'date', 'dateText',\n",
       "       'dateID', 'home', 'opponent', 'opponentTeamID', 'win', 'offRtg',\n",
       "       'defRtg', 'netRtg', 'pace', 'ptsPerScoringAttempt', 'ftPercent',\n",
       "       '2PtPercent', '3PtPercent', 'offRebPercent', 'defRebPercent',\n",
       "       'assistPercent', 'blockPercent', 'simpleRPI', 'margin', 'ptsScored',\n",
       "       'ptsAllowed', 'stealPercent', 'turnoverPercent', 'trueShootingPercent',\n",
       "       'foulRate', 'freeThrowRate'],\n",
       "      dtype='object')"
      ]
     },
     "execution_count": 6,
     "metadata": {},
     "output_type": "execute_result"
    }
   ],
   "source": [
    "# check to see if win is in the list of column names\n",
    "df.columns"
   ]
  },
  {
   "cell_type": "code",
   "execution_count": 7,
   "id": "broadband-fishing",
   "metadata": {},
   "outputs": [
    {
     "data": {
      "text/html": [
       "<div>\n",
       "<style scoped>\n",
       "    .dataframe tbody tr th:only-of-type {\n",
       "        vertical-align: middle;\n",
       "    }\n",
       "\n",
       "    .dataframe tbody tr th {\n",
       "        vertical-align: top;\n",
       "    }\n",
       "\n",
       "    .dataframe thead th {\n",
       "        text-align: right;\n",
       "    }\n",
       "</style>\n",
       "<table border=\"1\" class=\"dataframe\">\n",
       "  <thead>\n",
       "    <tr style=\"text-align: right;\">\n",
       "      <th></th>\n",
       "      <th>ptsScored</th>\n",
       "      <th>ptsAllowed</th>\n",
       "      <th>win</th>\n",
       "    </tr>\n",
       "  </thead>\n",
       "  <tbody>\n",
       "    <tr>\n",
       "      <th>0</th>\n",
       "      <td>88</td>\n",
       "      <td>40</td>\n",
       "      <td>1</td>\n",
       "    </tr>\n",
       "    <tr>\n",
       "      <th>1</th>\n",
       "      <td>79</td>\n",
       "      <td>42</td>\n",
       "      <td>1</td>\n",
       "    </tr>\n",
       "    <tr>\n",
       "      <th>2</th>\n",
       "      <td>95</td>\n",
       "      <td>62</td>\n",
       "      <td>1</td>\n",
       "    </tr>\n",
       "    <tr>\n",
       "      <th>3</th>\n",
       "      <td>70</td>\n",
       "      <td>54</td>\n",
       "      <td>1</td>\n",
       "    </tr>\n",
       "    <tr>\n",
       "      <th>4</th>\n",
       "      <td>52</td>\n",
       "      <td>69</td>\n",
       "      <td>0</td>\n",
       "    </tr>\n",
       "    <tr>\n",
       "      <th>...</th>\n",
       "      <td>...</td>\n",
       "      <td>...</td>\n",
       "      <td>...</td>\n",
       "    </tr>\n",
       "    <tr>\n",
       "      <th>143</th>\n",
       "      <td>57</td>\n",
       "      <td>38</td>\n",
       "      <td>1</td>\n",
       "    </tr>\n",
       "    <tr>\n",
       "      <th>144</th>\n",
       "      <td>80</td>\n",
       "      <td>48</td>\n",
       "      <td>1</td>\n",
       "    </tr>\n",
       "    <tr>\n",
       "      <th>145</th>\n",
       "      <td>84</td>\n",
       "      <td>76</td>\n",
       "      <td>1</td>\n",
       "    </tr>\n",
       "    <tr>\n",
       "      <th>146</th>\n",
       "      <td>79</td>\n",
       "      <td>64</td>\n",
       "      <td>1</td>\n",
       "    </tr>\n",
       "    <tr>\n",
       "      <th>147</th>\n",
       "      <td>62</td>\n",
       "      <td>35</td>\n",
       "      <td>1</td>\n",
       "    </tr>\n",
       "  </tbody>\n",
       "</table>\n",
       "<p>148 rows × 3 columns</p>\n",
       "</div>"
      ],
      "text/plain": [
       "     ptsScored  ptsAllowed  win\n",
       "0           88          40    1\n",
       "1           79          42    1\n",
       "2           95          62    1\n",
       "3           70          54    1\n",
       "4           52          69    0\n",
       "..         ...         ...  ...\n",
       "143         57          38    1\n",
       "144         80          48    1\n",
       "145         84          76    1\n",
       "146         79          64    1\n",
       "147         62          35    1\n",
       "\n",
       "[148 rows x 3 columns]"
      ]
     },
     "execution_count": 7,
     "metadata": {},
     "output_type": "execute_result"
    }
   ],
   "source": [
    "df[['ptsScored', 'ptsAllowed', 'win']]"
   ]
  },
  {
   "cell_type": "code",
   "execution_count": 8,
   "id": "bacterial-guest",
   "metadata": {},
   "outputs": [],
   "source": [
    "X = df[['home', \n",
    "        'pace', \n",
    "        'ftPercent', \n",
    "        '3PtPercent', \n",
    "        'offRebPercent', \n",
    "        'turnoverPercent', \n",
    "        'freeThrowRate', \n",
    "        'stealPercent']].fillna(0)\n",
    "y = df['win']"
   ]
  },
  {
   "cell_type": "code",
   "execution_count": 9,
   "id": "italic-partner",
   "metadata": {},
   "outputs": [],
   "source": [
    "# split data into training and test datasets (using 70-30 train-test split here)\n",
    "X_train, X_test, y_train, y_test = train_test_split(X, y, test_size=0.7, random_state=0)"
   ]
  },
  {
   "cell_type": "markdown",
   "id": "defined-digit",
   "metadata": {},
   "source": [
    "**Note:** We don't have to set a `random_state`, but by setting a `random_state`, we can have reproducible splits, meaning that the train/test splits are the same every time we run this code."
   ]
  },
  {
   "cell_type": "code",
   "execution_count": 10,
   "id": "inside-characterization",
   "metadata": {},
   "outputs": [
    {
     "data": {
      "text/plain": [
       "LogisticRegression(random_state=0)"
      ]
     },
     "execution_count": 10,
     "metadata": {},
     "output_type": "execute_result"
    }
   ],
   "source": [
    "# fitting the model\n",
    "clf = LogisticRegression(random_state=0)\n",
    "clf.fit(X_train, y_train)"
   ]
  },
  {
   "cell_type": "code",
   "execution_count": 11,
   "id": "acquired-incidence",
   "metadata": {},
   "outputs": [
    {
     "data": {
      "text/plain": [
       "0.6826923076923077"
      ]
     },
     "execution_count": 11,
     "metadata": {},
     "output_type": "execute_result"
    }
   ],
   "source": [
    "# calculating the accuracy on the given test data and labels (from the documentation)\n",
    "clf.score(X_test, y_test)"
   ]
  },
  {
   "cell_type": "code",
   "execution_count": 12,
   "id": "impaired-tourism",
   "metadata": {},
   "outputs": [
    {
     "name": "stdout",
     "output_type": "stream",
     "text": [
      "[[ 9 24]\n",
      " [ 9 62]]\n"
     ]
    }
   ],
   "source": [
    "# creating a confusion matrix (TP and TN are along the diagonals)\n",
    "from sklearn.metrics import confusion_matrix, plot_confusion_matrix\n",
    "\n",
    "y_pred = clf.predict(X_test)\n",
    "confusion_matrix = confusion_matrix(y_test, y_pred)\n",
    "print(confusion_matrix)"
   ]
  },
  {
   "cell_type": "code",
   "execution_count": 13,
   "id": "analyzed-approach",
   "metadata": {},
   "outputs": [
    {
     "data": {
      "image/png": "[encoded data removed]",
      "text/plain": [
       "<Figure size 432x288 with 2 Axes>"
      ]
     },
     "metadata": {
      "needs_background": "light"
     },
     "output_type": "display_data"
    }
   ],
   "source": [
    "plot_confusion_matrix(clf, X_test, y_test)  \n",
    "plt.show()  "
   ]
  },
  {
   "cell_type": "code",
   "execution_count": 14,
   "id": "stretch-attitude",
   "metadata": {},
   "outputs": [
    {
     "data": {
      "image/png": "[encoded data removed]",
      "text/plain": [
       "<Figure size 432x288 with 1 Axes>"
      ]
     },
     "metadata": {
      "needs_background": "light"
     },
     "output_type": "display_data"
    }
   ],
   "source": [
    "# creating an ROC curve\n",
    "from sklearn.metrics import roc_auc_score\n",
    "from sklearn.metrics import roc_curve\n",
    "\n",
    "logit_roc_auc = roc_auc_score(y_test, clf.predict(X_test))\n",
    "fpr, tpr, thresholds = roc_curve(y_test, clf.predict_proba(X_test)[:,1])\n",
    "plt.figure()\n",
    "plt.plot(fpr, tpr, label='Logistic Regression (area = %0.2f)' % logit_roc_auc)\n",
    "plt.plot([0, 1], [0, 1],'r--')\n",
    "plt.xlim([0.0, 1.0])\n",
    "plt.ylim([0.0, 1.05])\n",
    "plt.xlabel('False Positive Rate')\n",
    "plt.ylabel('True Positive Rate')\n",
    "plt.title('ROC Curve')\n",
    "plt.legend(loc=\"lower right\")\n",
    "plt.show()"
   ]
  },
  {
   "cell_type": "code",
   "execution_count": null,
   "id": "equivalent-mercy",
   "metadata": {},
   "outputs": [],
   "source": []
  }
 ],
 "metadata": {
  "kernelspec": {
   "display_name": "Python 3",
   "language": "python",
   "name": "python3"
  },
  "language_info": {
   "codemirror_mode": {
    "name": "ipython",
    "version": 3
   },
   "file_extension": ".py",
   "mimetype": "text/x-python",
   "name": "python",
   "nbconvert_exporter": "python",
   "pygments_lexer": "ipython3",
   "version": "3.8.5"
  }
 },
 "nbformat": 4,
 "nbformat_minor": 5
}
